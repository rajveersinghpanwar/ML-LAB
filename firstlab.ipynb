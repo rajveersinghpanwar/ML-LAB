{
  "nbformat": 4,
  "nbformat_minor": 0,
  "metadata": {
    "colab": {
      "provenance": [],
      "authorship_tag": "ABX9TyOd9SW0N0+KE3dWX0ssW4Uv",
      "include_colab_link": true
    },
    "kernelspec": {
      "name": "python3",
      "display_name": "Python 3"
    },
    "language_info": {
      "name": "python"
    }
  },
  "cells": [
    {
      "cell_type": "markdown",
      "metadata": {
        "id": "view-in-github",
        "colab_type": "text"
      },
      "source": [
        "<a href=\"https://colab.research.google.com/github/pritamrathod24/ML-Lab/blob/main/firstlab.ipynb\" target=\"_parent\"><img src=\"https://colab.research.google.com/assets/colab-badge.svg\" alt=\"Open In Colab\"/></a>"
      ]
    },
    {
      "cell_type": "markdown",
      "source": [
        "Table of any number"
      ],
      "metadata": {
        "id": "YzJmDk77dDN3"
      }
    },
    {
      "cell_type": "code",
      "source": [
        "\n",
        "num = 5\n",
        "for i in range(1, 11):\n",
        " print(num, 'x', i, '=', num*i)"
      ],
      "metadata": {
        "colab": {
          "base_uri": "https://localhost:8080/"
        },
        "id": "HbKity1ddFzf",
        "outputId": "d5d6e2e7-cf72-40a8-ab6d-cad2e6b773d8"
      },
      "execution_count": 1,
      "outputs": [
        {
          "output_type": "stream",
          "name": "stdout",
          "text": [
            "5 x 1 = 5\n",
            "5 x 2 = 10\n",
            "5 x 3 = 15\n",
            "5 x 4 = 20\n",
            "5 x 5 = 25\n",
            "5 x 6 = 30\n",
            "5 x 7 = 35\n",
            "5 x 8 = 40\n",
            "5 x 9 = 45\n",
            "5 x 10 = 50\n"
          ]
        }
      ]
    },
    {
      "cell_type": "markdown",
      "source": [
        "**Print a list and list comprehension**\n"
      ],
      "metadata": {
        "id": "sZ7FZwZedMux"
      }
    },
    {
      "cell_type": "code",
      "source": [
        "a = [1,2,3,4,5]\n",
        "for x in range(len(a)):\n",
        " print(a[x]),\n",
        "a = [1,2,3,4,5]\n",
        "a.append(6)\n",
        "print(a)"
      ],
      "metadata": {
        "id": "WxpZzBXzdaya",
        "outputId": "05907269-471d-4499-ba5a-c725debd637f",
        "colab": {
          "base_uri": "https://localhost:8080/"
        }
      },
      "execution_count": 2,
      "outputs": [
        {
          "output_type": "stream",
          "name": "stdout",
          "text": [
            "1\n",
            "2\n",
            "3\n",
            "4\n",
            "5\n",
            "[1, 2, 3, 4, 5, 6]\n"
          ]
        }
      ]
    },
    {
      "cell_type": "markdown",
      "source": [
        "Demonstrate tuples"
      ],
      "metadata": {
        "id": "ABuX2lCbdetp"
      }
    },
    {
      "cell_type": "code",
      "source": [
        "number = [2,4,6,8,10]\n",
        "print(number)"
      ],
      "metadata": {
        "id": "dua-bhMPdkyG",
        "outputId": "bbb5fc27-0058-4154-fbe7-840476ceea49",
        "colab": {
          "base_uri": "https://localhost:8080/"
        }
      },
      "execution_count": 3,
      "outputs": [
        {
          "output_type": "stream",
          "name": "stdout",
          "text": [
            "[2, 4, 6, 8, 10]\n"
          ]
        }
      ]
    },
    {
      "cell_type": "markdown",
      "source": [
        "string"
      ],
      "metadata": {
        "id": "FVthjUGcdqJo"
      }
    },
    {
      "cell_type": "code",
      "source": [
        "\n",
        "name = \"Pritam\"\n",
        "print(name)"
      ],
      "metadata": {
        "id": "OrtaXaomduQw",
        "outputId": "8b3bd098-6fda-472f-9743-4f2031262f5d",
        "colab": {
          "base_uri": "https://localhost:8080/"
        }
      },
      "execution_count": 4,
      "outputs": [
        {
          "output_type": "stream",
          "name": "stdout",
          "text": [
            "Pritam\n"
          ]
        }
      ]
    }
  ]
}