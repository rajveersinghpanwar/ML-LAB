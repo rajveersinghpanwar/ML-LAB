{
  "nbformat": 4,
  "nbformat_minor": 0,
  "metadata": {
    "colab": {
      "provenance": []
    },
    "kernelspec": {
      "name": "python3",
      "display_name": "Python 3"
    },
    "language_info": {
      "name": "python"
    }
  },
  "cells": [
    {
      "cell_type": "code",
      "execution_count": 1,
      "metadata": {
        "colab": {
          "base_uri": "https://localhost:8080/"
        },
        "id": "M6b8wLj5Y_Or",
        "outputId": "f4859097-3da8-4205-d8c8-9bfd1809a67d"
      },
      "outputs": [
        {
          "output_type": "stream",
          "name": "stdout",
          "text": [
            "Downloading data from https://storage.googleapis.com/tensorflow/tf-keras-datasets/mnist.npz\n",
            "11490434/11490434 [==============================] - 0s 0us/step\n"
          ]
        }
      ],
      "source": [
        "from keras.datasets import mnist\n",
        "(train_images, train_labels), (test_images, test_labels) = mnist.load_data()\n"
      ]
    },
    {
      "cell_type": "code",
      "source": [
        "train_images.shape\n",
        "len(train_labels)\n",
        "train_labels\n",
        "test_images.shape\n",
        "len(test_labels)\n",
        "test_labels\n"
      ],
      "metadata": {
        "colab": {
          "base_uri": "https://localhost:8080/"
        },
        "id": "lCh-oFI9Zsgp",
        "outputId": "85729bdc-748f-4cd5-d286-2f8296532f64"
      },
      "execution_count": 2,
      "outputs": [
        {
          "output_type": "execute_result",
          "data": {
            "text/plain": [
              "array([7, 2, 1, ..., 4, 5, 6], dtype=uint8)"
            ]
          },
          "metadata": {},
          "execution_count": 2
        }
      ]
    },
    {
      "cell_type": "markdown",
      "source": [
        "The network architecture"
      ],
      "metadata": {
        "id": "gRxPVtd8Z2f3"
      }
    },
    {
      "cell_type": "code",
      "source": [
        "from keras import models\n",
        "from keras import layers\n",
        "network = models.Sequential()\n",
        "# Dense(32) is a fully-connected layer with 32 hidden units.\n",
        "# in the first layer, you must specify the expected input data shape :\n",
        "# here, 28 X 28=784 -dimensional vectors.\n",
        "network.add(layers.Dense(32, activation='sigmoid', input_shape=(28 * 28, )))\n",
        "network.add(layers.Dense(8, activation='sigmoid'))\n",
        "network.add(layers.Dense(10, activation='softmax'))\n",
        "network.summary()\n",
        "from google.colab import drive\n",
        "drive.mount('/content/drive')\n"
      ],
      "metadata": {
        "colab": {
          "base_uri": "https://localhost:8080/"
        },
        "id": "V9Cv1-sJZ3b3",
        "outputId": "1232aa89-c500-4961-f98a-d0fbf7063d19"
      },
      "execution_count": 10,
      "outputs": [
        {
          "output_type": "stream",
          "name": "stdout",
          "text": [
            "Model: \"sequential_1\"\n",
            "_________________________________________________________________\n",
            " Layer (type)                Output Shape              Param #   \n",
            "=================================================================\n",
            " dense_3 (Dense)             (None, 32)                25120     \n",
            "                                                                 \n",
            " dense_4 (Dense)             (None, 8)                 264       \n",
            "                                                                 \n",
            " dense_5 (Dense)             (None, 10)                90        \n",
            "                                                                 \n",
            "=================================================================\n",
            "Total params: 25474 (99.51 KB)\n",
            "Trainable params: 25474 (99.51 KB)\n",
            "Non-trainable params: 0 (0.00 Byte)\n",
            "_________________________________________________________________\n",
            "Mounted at /content/drive\n"
          ]
        }
      ]
    },
    {
      "cell_type": "markdown",
      "source": [
        "The compilation step\n",
        "\n"
      ],
      "metadata": {
        "id": "ocwB9BK3aFmO"
      }
    },
    {
      "cell_type": "code",
      "source": [
        "network.compile(optimizer='sgd',\n",
        "                loss='categorical_crossentropy',\n",
        "                metrics=['accuracy'])"
      ],
      "metadata": {
        "id": "jufw9T7CaIsu"
      },
      "execution_count": 4,
      "outputs": []
    },
    {
      "cell_type": "markdown",
      "source": [
        "Preparing the image data"
      ],
      "metadata": {
        "id": "SRN74grgaNCh"
      }
    },
    {
      "cell_type": "code",
      "source": [
        "train_images = train_images.reshape((60000, 28 * 28))\n",
        "train_images = train_images.astype('float32') / 255.\n",
        "test_images = test_images.reshape((10000, 28 * 28))\n",
        "test_images = test_images.astype('float32') / 255."
      ],
      "metadata": {
        "id": "ydC-Dm8WaPrh"
      },
      "execution_count": 5,
      "outputs": []
    },
    {
      "cell_type": "markdown",
      "source": [
        "Preparing the labels"
      ],
      "metadata": {
        "id": "ZslF4YafaTn5"
      }
    },
    {
      "cell_type": "code",
      "source": [
        "from keras.utils import to_categorical\n",
        "train_labels = to_categorical(train_labels)\n",
        "train_labels\n",
        "test_labels = to_categorical(test_labels)\n",
        "test_labels"
      ],
      "metadata": {
        "colab": {
          "base_uri": "https://localhost:8080/"
        },
        "id": "VVZv0VNiaV4p",
        "outputId": "ecf4e648-4cb9-4867-d05e-f2daeea32644"
      },
      "execution_count": 6,
      "outputs": [
        {
          "output_type": "execute_result",
          "data": {
            "text/plain": [
              "array([[0., 0., 0., ..., 1., 0., 0.],\n",
              "       [0., 0., 1., ..., 0., 0., 0.],\n",
              "       [0., 1., 0., ..., 0., 0., 0.],\n",
              "       ...,\n",
              "       [0., 0., 0., ..., 0., 0., 0.],\n",
              "       [0., 0., 0., ..., 0., 0., 0.],\n",
              "       [0., 0., 0., ..., 0., 0., 0.]], dtype=float32)"
            ]
          },
          "metadata": {},
          "execution_count": 6
        }
      ]
    },
    {
      "cell_type": "markdown",
      "source": [
        "Training and Testing"
      ],
      "metadata": {
        "id": "YqcPh2l8aaNx"
      }
    },
    {
      "cell_type": "code",
      "source": [
        "network.fit(train_images, train_labels, epochs=160, batch_size=512)"
      ],
      "metadata": {
        "colab": {
          "base_uri": "https://localhost:8080/"
        },
        "id": "5dHcf-uHadV5",
        "outputId": "3c677017-399e-47ed-fb23-4656071736c5"
      },
      "execution_count": 7,
      "outputs": [
        {
          "output_type": "stream",
          "name": "stdout",
          "text": [
            "Epoch 1/160\n",
            "118/118 [==============================] - 1s 4ms/step - loss: 2.3529 - accuracy: 0.0993\n",
            "Epoch 2/160\n",
            "118/118 [==============================] - 0s 4ms/step - loss: 2.3189 - accuracy: 0.0993\n",
            "Epoch 3/160\n",
            "118/118 [==============================] - 0s 4ms/step - loss: 2.3010 - accuracy: 0.1015\n",
            "Epoch 4/160\n",
            "118/118 [==============================] - 0s 4ms/step - loss: 2.2888 - accuracy: 0.1270\n",
            "Epoch 5/160\n",
            "118/118 [==============================] - 0s 4ms/step - loss: 2.2791 - accuracy: 0.1607\n",
            "Epoch 6/160\n",
            "118/118 [==============================] - 0s 4ms/step - loss: 2.2704 - accuracy: 0.1890\n",
            "Epoch 7/160\n",
            "118/118 [==============================] - 0s 4ms/step - loss: 2.2620 - accuracy: 0.2133\n",
            "Epoch 8/160\n",
            "118/118 [==============================] - 0s 4ms/step - loss: 2.2537 - accuracy: 0.2382\n",
            "Epoch 9/160\n",
            "118/118 [==============================] - 1s 6ms/step - loss: 2.2450 - accuracy: 0.2854\n",
            "Epoch 10/160\n",
            "118/118 [==============================] - 1s 4ms/step - loss: 2.2359 - accuracy: 0.3131\n",
            "Epoch 11/160\n",
            "118/118 [==============================] - 1s 7ms/step - loss: 2.2264 - accuracy: 0.3331\n",
            "Epoch 12/160\n",
            "118/118 [==============================] - 1s 5ms/step - loss: 2.2163 - accuracy: 0.3473\n",
            "Epoch 13/160\n",
            "118/118 [==============================] - 1s 6ms/step - loss: 2.2056 - accuracy: 0.3667\n",
            "Epoch 14/160\n",
            "118/118 [==============================] - 1s 7ms/step - loss: 2.1943 - accuracy: 0.3827\n",
            "Epoch 15/160\n",
            "118/118 [==============================] - 1s 6ms/step - loss: 2.1824 - accuracy: 0.3997\n",
            "Epoch 16/160\n",
            "118/118 [==============================] - 1s 5ms/step - loss: 2.1698 - accuracy: 0.4174\n",
            "Epoch 17/160\n",
            "118/118 [==============================] - 0s 4ms/step - loss: 2.1565 - accuracy: 0.4324\n",
            "Epoch 18/160\n",
            "118/118 [==============================] - 0s 4ms/step - loss: 2.1426 - accuracy: 0.4464\n",
            "Epoch 19/160\n",
            "118/118 [==============================] - 1s 4ms/step - loss: 2.1280 - accuracy: 0.4577\n",
            "Epoch 20/160\n",
            "118/118 [==============================] - 0s 4ms/step - loss: 2.1127 - accuracy: 0.4721\n",
            "Epoch 21/160\n",
            "118/118 [==============================] - 0s 4ms/step - loss: 2.0968 - accuracy: 0.4775\n",
            "Epoch 22/160\n",
            "118/118 [==============================] - 0s 4ms/step - loss: 2.0802 - accuracy: 0.4884\n",
            "Epoch 23/160\n",
            "118/118 [==============================] - 0s 4ms/step - loss: 2.0629 - accuracy: 0.4959\n",
            "Epoch 24/160\n",
            "118/118 [==============================] - 0s 4ms/step - loss: 2.0450 - accuracy: 0.5035\n",
            "Epoch 25/160\n",
            "118/118 [==============================] - 0s 4ms/step - loss: 2.0265 - accuracy: 0.5087\n",
            "Epoch 26/160\n",
            "118/118 [==============================] - 0s 4ms/step - loss: 2.0075 - accuracy: 0.5161\n",
            "Epoch 27/160\n",
            "118/118 [==============================] - 1s 6ms/step - loss: 1.9879 - accuracy: 0.5200\n",
            "Epoch 28/160\n",
            "118/118 [==============================] - 0s 4ms/step - loss: 1.9679 - accuracy: 0.5247\n",
            "Epoch 29/160\n",
            "118/118 [==============================] - 0s 4ms/step - loss: 1.9474 - accuracy: 0.5285\n",
            "Epoch 30/160\n",
            "118/118 [==============================] - 0s 4ms/step - loss: 1.9265 - accuracy: 0.5300\n",
            "Epoch 31/160\n",
            "118/118 [==============================] - 0s 4ms/step - loss: 1.9053 - accuracy: 0.5344\n",
            "Epoch 32/160\n",
            "118/118 [==============================] - 0s 4ms/step - loss: 1.8837 - accuracy: 0.5371\n",
            "Epoch 33/160\n",
            "118/118 [==============================] - 0s 4ms/step - loss: 1.8619 - accuracy: 0.5402\n",
            "Epoch 34/160\n",
            "118/118 [==============================] - 1s 4ms/step - loss: 1.8399 - accuracy: 0.5425\n",
            "Epoch 35/160\n",
            "118/118 [==============================] - 1s 6ms/step - loss: 1.8177 - accuracy: 0.5472\n",
            "Epoch 36/160\n",
            "118/118 [==============================] - 1s 7ms/step - loss: 1.7954 - accuracy: 0.5493\n",
            "Epoch 37/160\n",
            "118/118 [==============================] - 1s 6ms/step - loss: 1.7730 - accuracy: 0.5548\n",
            "Epoch 38/160\n",
            "118/118 [==============================] - 1s 6ms/step - loss: 1.7506 - accuracy: 0.5594\n",
            "Epoch 39/160\n",
            "118/118 [==============================] - 1s 6ms/step - loss: 1.7283 - accuracy: 0.5625\n",
            "Epoch 40/160\n",
            "118/118 [==============================] - 0s 4ms/step - loss: 1.7060 - accuracy: 0.5673\n",
            "Epoch 41/160\n",
            "118/118 [==============================] - 0s 4ms/step - loss: 1.6838 - accuracy: 0.5699\n",
            "Epoch 42/160\n",
            "118/118 [==============================] - 1s 4ms/step - loss: 1.6618 - accuracy: 0.5749\n",
            "Epoch 43/160\n",
            "118/118 [==============================] - 0s 4ms/step - loss: 1.6401 - accuracy: 0.5798\n",
            "Epoch 44/160\n",
            "118/118 [==============================] - 0s 4ms/step - loss: 1.6186 - accuracy: 0.5838\n",
            "Epoch 45/160\n",
            "118/118 [==============================] - 0s 4ms/step - loss: 1.5974 - accuracy: 0.5888\n",
            "Epoch 46/160\n",
            "118/118 [==============================] - 0s 4ms/step - loss: 1.5764 - accuracy: 0.5935\n",
            "Epoch 47/160\n",
            "118/118 [==============================] - 0s 4ms/step - loss: 1.5559 - accuracy: 0.5985\n",
            "Epoch 48/160\n",
            "118/118 [==============================] - 0s 4ms/step - loss: 1.5357 - accuracy: 0.6027\n",
            "Epoch 49/160\n",
            "118/118 [==============================] - 0s 4ms/step - loss: 1.5159 - accuracy: 0.6086\n",
            "Epoch 50/160\n",
            "118/118 [==============================] - 0s 4ms/step - loss: 1.4965 - accuracy: 0.6121\n",
            "Epoch 51/160\n",
            "118/118 [==============================] - 0s 4ms/step - loss: 1.4775 - accuracy: 0.6174\n",
            "Epoch 52/160\n",
            "118/118 [==============================] - 0s 4ms/step - loss: 1.4589 - accuracy: 0.6227\n",
            "Epoch 53/160\n",
            "118/118 [==============================] - 0s 4ms/step - loss: 1.4407 - accuracy: 0.6280\n",
            "Epoch 54/160\n",
            "118/118 [==============================] - 1s 4ms/step - loss: 1.4229 - accuracy: 0.6327\n",
            "Epoch 55/160\n",
            "118/118 [==============================] - 0s 4ms/step - loss: 1.4055 - accuracy: 0.6381\n",
            "Epoch 56/160\n",
            "118/118 [==============================] - 0s 4ms/step - loss: 1.3885 - accuracy: 0.6423\n",
            "Epoch 57/160\n",
            "118/118 [==============================] - 0s 4ms/step - loss: 1.3719 - accuracy: 0.6460\n",
            "Epoch 58/160\n",
            "118/118 [==============================] - 0s 4ms/step - loss: 1.3557 - accuracy: 0.6504\n",
            "Epoch 59/160\n",
            "118/118 [==============================] - 1s 5ms/step - loss: 1.3399 - accuracy: 0.6543\n",
            "Epoch 60/160\n",
            "118/118 [==============================] - 1s 7ms/step - loss: 1.3244 - accuracy: 0.6597\n",
            "Epoch 61/160\n",
            "118/118 [==============================] - 1s 6ms/step - loss: 1.3092 - accuracy: 0.6631\n",
            "Epoch 62/160\n",
            "118/118 [==============================] - 1s 7ms/step - loss: 1.2944 - accuracy: 0.6678\n",
            "Epoch 63/160\n",
            "118/118 [==============================] - 1s 5ms/step - loss: 1.2798 - accuracy: 0.6722\n",
            "Epoch 64/160\n",
            "118/118 [==============================] - 0s 4ms/step - loss: 1.2656 - accuracy: 0.6765\n",
            "Epoch 65/160\n",
            "118/118 [==============================] - 0s 4ms/step - loss: 1.2517 - accuracy: 0.6802\n",
            "Epoch 66/160\n",
            "118/118 [==============================] - 0s 4ms/step - loss: 1.2380 - accuracy: 0.6841\n",
            "Epoch 67/160\n",
            "118/118 [==============================] - 0s 4ms/step - loss: 1.2247 - accuracy: 0.6881\n",
            "Epoch 68/160\n",
            "118/118 [==============================] - 0s 4ms/step - loss: 1.2116 - accuracy: 0.6915\n",
            "Epoch 69/160\n",
            "118/118 [==============================] - 0s 4ms/step - loss: 1.1987 - accuracy: 0.6957\n",
            "Epoch 70/160\n",
            "118/118 [==============================] - 0s 4ms/step - loss: 1.1861 - accuracy: 0.6996\n",
            "Epoch 71/160\n",
            "118/118 [==============================] - 0s 4ms/step - loss: 1.1738 - accuracy: 0.7038\n",
            "Epoch 72/160\n",
            "118/118 [==============================] - 0s 4ms/step - loss: 1.1616 - accuracy: 0.7078\n",
            "Epoch 73/160\n",
            "118/118 [==============================] - 0s 4ms/step - loss: 1.1497 - accuracy: 0.7112\n",
            "Epoch 74/160\n",
            "118/118 [==============================] - 0s 4ms/step - loss: 1.1381 - accuracy: 0.7154\n",
            "Epoch 75/160\n",
            "118/118 [==============================] - 0s 4ms/step - loss: 1.1266 - accuracy: 0.7183\n",
            "Epoch 76/160\n",
            "118/118 [==============================] - 0s 4ms/step - loss: 1.1153 - accuracy: 0.7215\n",
            "Epoch 77/160\n",
            "118/118 [==============================] - 0s 4ms/step - loss: 1.1043 - accuracy: 0.7248\n",
            "Epoch 78/160\n",
            "118/118 [==============================] - 0s 4ms/step - loss: 1.0934 - accuracy: 0.7283\n",
            "Epoch 79/160\n",
            "118/118 [==============================] - 0s 4ms/step - loss: 1.0827 - accuracy: 0.7321\n",
            "Epoch 80/160\n",
            "118/118 [==============================] - 0s 4ms/step - loss: 1.0723 - accuracy: 0.7359\n",
            "Epoch 81/160\n",
            "118/118 [==============================] - 0s 4ms/step - loss: 1.0620 - accuracy: 0.7384\n",
            "Epoch 82/160\n",
            "118/118 [==============================] - 0s 4ms/step - loss: 1.0519 - accuracy: 0.7417\n",
            "Epoch 83/160\n",
            "118/118 [==============================] - 0s 4ms/step - loss: 1.0420 - accuracy: 0.7445\n",
            "Epoch 84/160\n",
            "118/118 [==============================] - 1s 6ms/step - loss: 1.0322 - accuracy: 0.7476\n",
            "Epoch 85/160\n",
            "118/118 [==============================] - 1s 6ms/step - loss: 1.0226 - accuracy: 0.7505\n",
            "Epoch 86/160\n",
            "118/118 [==============================] - 1s 7ms/step - loss: 1.0132 - accuracy: 0.7528\n",
            "Epoch 87/160\n",
            "118/118 [==============================] - 1s 6ms/step - loss: 1.0039 - accuracy: 0.7556\n",
            "Epoch 88/160\n",
            "118/118 [==============================] - 0s 4ms/step - loss: 0.9948 - accuracy: 0.7574\n",
            "Epoch 89/160\n",
            "118/118 [==============================] - 0s 4ms/step - loss: 0.9859 - accuracy: 0.7605\n",
            "Epoch 90/160\n",
            "118/118 [==============================] - 1s 5ms/step - loss: 0.9771 - accuracy: 0.7628\n",
            "Epoch 91/160\n",
            "118/118 [==============================] - 1s 7ms/step - loss: 0.9684 - accuracy: 0.7652\n",
            "Epoch 92/160\n",
            "118/118 [==============================] - 1s 6ms/step - loss: 0.9599 - accuracy: 0.7682\n",
            "Epoch 93/160\n",
            "118/118 [==============================] - 1s 8ms/step - loss: 0.9516 - accuracy: 0.7705\n",
            "Epoch 94/160\n",
            "118/118 [==============================] - 1s 10ms/step - loss: 0.9433 - accuracy: 0.7725\n",
            "Epoch 95/160\n",
            "118/118 [==============================] - 1s 8ms/step - loss: 0.9352 - accuracy: 0.7744\n",
            "Epoch 96/160\n",
            "118/118 [==============================] - 1s 9ms/step - loss: 0.9273 - accuracy: 0.7767\n",
            "Epoch 97/160\n",
            "118/118 [==============================] - 1s 9ms/step - loss: 0.9194 - accuracy: 0.7788\n",
            "Epoch 98/160\n",
            "118/118 [==============================] - 1s 8ms/step - loss: 0.9117 - accuracy: 0.7809\n",
            "Epoch 99/160\n",
            "118/118 [==============================] - 1s 10ms/step - loss: 0.9041 - accuracy: 0.7828\n",
            "Epoch 100/160\n",
            "118/118 [==============================] - 1s 7ms/step - loss: 0.8966 - accuracy: 0.7849\n",
            "Epoch 101/160\n",
            "118/118 [==============================] - 1s 6ms/step - loss: 0.8892 - accuracy: 0.7866\n",
            "Epoch 102/160\n",
            "118/118 [==============================] - 1s 6ms/step - loss: 0.8820 - accuracy: 0.7889\n",
            "Epoch 103/160\n",
            "118/118 [==============================] - 1s 4ms/step - loss: 0.8748 - accuracy: 0.7902\n",
            "Epoch 104/160\n",
            "118/118 [==============================] - 0s 4ms/step - loss: 0.8678 - accuracy: 0.7923\n",
            "Epoch 105/160\n",
            "118/118 [==============================] - 0s 4ms/step - loss: 0.8609 - accuracy: 0.7946\n",
            "Epoch 106/160\n",
            "118/118 [==============================] - 0s 4ms/step - loss: 0.8540 - accuracy: 0.7957\n",
            "Epoch 107/160\n",
            "118/118 [==============================] - 1s 4ms/step - loss: 0.8473 - accuracy: 0.7982\n",
            "Epoch 108/160\n",
            "118/118 [==============================] - 0s 4ms/step - loss: 0.8406 - accuracy: 0.7997\n",
            "Epoch 109/160\n",
            "118/118 [==============================] - 1s 4ms/step - loss: 0.8341 - accuracy: 0.8017\n",
            "Epoch 110/160\n",
            "118/118 [==============================] - 0s 4ms/step - loss: 0.8276 - accuracy: 0.8034\n",
            "Epoch 111/160\n",
            "118/118 [==============================] - 0s 4ms/step - loss: 0.8213 - accuracy: 0.8053\n",
            "Epoch 112/160\n",
            "118/118 [==============================] - 0s 4ms/step - loss: 0.8150 - accuracy: 0.8068\n",
            "Epoch 113/160\n",
            "118/118 [==============================] - 0s 4ms/step - loss: 0.8088 - accuracy: 0.8083\n",
            "Epoch 114/160\n",
            "118/118 [==============================] - 1s 4ms/step - loss: 0.8027 - accuracy: 0.8097\n",
            "Epoch 115/160\n",
            "118/118 [==============================] - 0s 4ms/step - loss: 0.7966 - accuracy: 0.8108\n",
            "Epoch 116/160\n",
            "118/118 [==============================] - 1s 4ms/step - loss: 0.7907 - accuracy: 0.8123\n",
            "Epoch 117/160\n",
            "118/118 [==============================] - 0s 4ms/step - loss: 0.7848 - accuracy: 0.8138\n",
            "Epoch 118/160\n",
            "118/118 [==============================] - 1s 4ms/step - loss: 0.7791 - accuracy: 0.8148\n",
            "Epoch 119/160\n",
            "118/118 [==============================] - 0s 4ms/step - loss: 0.7734 - accuracy: 0.8160\n",
            "Epoch 120/160\n",
            "118/118 [==============================] - 1s 4ms/step - loss: 0.7677 - accuracy: 0.8174\n",
            "Epoch 121/160\n",
            "118/118 [==============================] - 0s 4ms/step - loss: 0.7622 - accuracy: 0.8183\n",
            "Epoch 122/160\n",
            "118/118 [==============================] - 0s 4ms/step - loss: 0.7567 - accuracy: 0.8193\n",
            "Epoch 123/160\n",
            "118/118 [==============================] - 1s 6ms/step - loss: 0.7513 - accuracy: 0.8207\n",
            "Epoch 124/160\n",
            "118/118 [==============================] - 1s 6ms/step - loss: 0.7460 - accuracy: 0.8220\n",
            "Epoch 125/160\n",
            "118/118 [==============================] - 1s 7ms/step - loss: 0.7408 - accuracy: 0.8227\n",
            "Epoch 126/160\n",
            "118/118 [==============================] - 1s 6ms/step - loss: 0.7356 - accuracy: 0.8238\n",
            "Epoch 127/160\n",
            "118/118 [==============================] - 1s 4ms/step - loss: 0.7305 - accuracy: 0.8250\n",
            "Epoch 128/160\n",
            "118/118 [==============================] - 0s 4ms/step - loss: 0.7255 - accuracy: 0.8259\n",
            "Epoch 129/160\n",
            "118/118 [==============================] - 1s 4ms/step - loss: 0.7205 - accuracy: 0.8275\n",
            "Epoch 130/160\n",
            "118/118 [==============================] - 1s 4ms/step - loss: 0.7156 - accuracy: 0.8284\n",
            "Epoch 131/160\n",
            "118/118 [==============================] - 1s 4ms/step - loss: 0.7108 - accuracy: 0.8293\n",
            "Epoch 132/160\n",
            "118/118 [==============================] - 0s 4ms/step - loss: 0.7060 - accuracy: 0.8304\n",
            "Epoch 133/160\n",
            "118/118 [==============================] - 1s 4ms/step - loss: 0.7013 - accuracy: 0.8315\n",
            "Epoch 134/160\n",
            "118/118 [==============================] - 1s 5ms/step - loss: 0.6967 - accuracy: 0.8326\n",
            "Epoch 135/160\n",
            "118/118 [==============================] - 1s 4ms/step - loss: 0.6921 - accuracy: 0.8335\n",
            "Epoch 136/160\n",
            "118/118 [==============================] - 1s 4ms/step - loss: 0.6876 - accuracy: 0.8345\n",
            "Epoch 137/160\n",
            "118/118 [==============================] - 0s 4ms/step - loss: 0.6832 - accuracy: 0.8355\n",
            "Epoch 138/160\n",
            "118/118 [==============================] - 1s 4ms/step - loss: 0.6788 - accuracy: 0.8367\n",
            "Epoch 139/160\n",
            "118/118 [==============================] - 0s 4ms/step - loss: 0.6745 - accuracy: 0.8374\n",
            "Epoch 140/160\n",
            "118/118 [==============================] - 0s 4ms/step - loss: 0.6703 - accuracy: 0.8388\n",
            "Epoch 141/160\n",
            "118/118 [==============================] - 0s 4ms/step - loss: 0.6661 - accuracy: 0.8397\n",
            "Epoch 142/160\n",
            "118/118 [==============================] - 1s 4ms/step - loss: 0.6619 - accuracy: 0.8406\n",
            "Epoch 143/160\n",
            "118/118 [==============================] - 0s 4ms/step - loss: 0.6579 - accuracy: 0.8412\n",
            "Epoch 144/160\n",
            "118/118 [==============================] - 1s 4ms/step - loss: 0.6538 - accuracy: 0.8419\n",
            "Epoch 145/160\n",
            "118/118 [==============================] - 0s 4ms/step - loss: 0.6499 - accuracy: 0.8427\n",
            "Epoch 146/160\n",
            "118/118 [==============================] - 1s 5ms/step - loss: 0.6460 - accuracy: 0.8435\n",
            "Epoch 147/160\n",
            "118/118 [==============================] - 1s 6ms/step - loss: 0.6421 - accuracy: 0.8437\n",
            "Epoch 148/160\n",
            "118/118 [==============================] - 1s 7ms/step - loss: 0.6383 - accuracy: 0.8449\n",
            "Epoch 149/160\n",
            "118/118 [==============================] - 1s 7ms/step - loss: 0.6346 - accuracy: 0.8453\n",
            "Epoch 150/160\n",
            "118/118 [==============================] - 1s 5ms/step - loss: 0.6309 - accuracy: 0.8460\n",
            "Epoch 151/160\n",
            "118/118 [==============================] - 1s 4ms/step - loss: 0.6273 - accuracy: 0.8468\n",
            "Epoch 152/160\n",
            "118/118 [==============================] - 0s 4ms/step - loss: 0.6237 - accuracy: 0.8473\n",
            "Epoch 153/160\n",
            "118/118 [==============================] - 1s 4ms/step - loss: 0.6201 - accuracy: 0.8481\n",
            "Epoch 154/160\n",
            "118/118 [==============================] - 1s 4ms/step - loss: 0.6166 - accuracy: 0.8489\n",
            "Epoch 155/160\n",
            "118/118 [==============================] - 1s 4ms/step - loss: 0.6132 - accuracy: 0.8497\n",
            "Epoch 156/160\n",
            "118/118 [==============================] - 1s 4ms/step - loss: 0.6098 - accuracy: 0.8504\n",
            "Epoch 157/160\n",
            "118/118 [==============================] - 1s 4ms/step - loss: 0.6064 - accuracy: 0.8511\n",
            "Epoch 158/160\n",
            "118/118 [==============================] - 1s 5ms/step - loss: 0.6031 - accuracy: 0.8518\n",
            "Epoch 159/160\n",
            "118/118 [==============================] - 1s 5ms/step - loss: 0.5999 - accuracy: 0.8526\n",
            "Epoch 160/160\n",
            "118/118 [==============================] - 1s 5ms/step - loss: 0.5967 - accuracy: 0.8531\n"
          ]
        },
        {
          "output_type": "execute_result",
          "data": {
            "text/plain": [
              "<keras.src.callbacks.History at 0x7f08fcfc77c0>"
            ]
          },
          "metadata": {},
          "execution_count": 7
        }
      ]
    },
    {
      "cell_type": "code",
      "source": [
        "test_loss, test_acc = network.evaluate(test_images, test_labels)\n",
        "print('Test Accuracy: {:.5f} '.format(test_acc))\n",
        "test_acc"
      ],
      "metadata": {
        "colab": {
          "base_uri": "https://localhost:8080/"
        },
        "id": "Hh1HykTCaqgh",
        "outputId": "062c8885-b5ee-4316-f033-ce8f1b6b8b53"
      },
      "execution_count": 8,
      "outputs": [
        {
          "output_type": "stream",
          "name": "stdout",
          "text": [
            "313/313 [==============================] - 1s 2ms/step - loss: 0.5875 - accuracy: 0.8557\n",
            "Test Accuracy: 0.85570 \n"
          ]
        },
        {
          "output_type": "execute_result",
          "data": {
            "text/plain": [
              "0.8557000160217285"
            ]
          },
          "metadata": {},
          "execution_count": 8
        }
      ]
    },
    {
      "cell_type": "markdown",
      "source": [],
      "metadata": {
        "id": "m4knEw54bfLp"
      }
    },
    {
      "cell_type": "code",
      "source": [
        "from keras.utils import plot_model\n",
        "plot_model(network, to_file='model.png')\n",
        "import matplotlib.pyplot as plt\n",
        "history =network.fit(train_images, train_labels, validation_split=0.33,epochs=5, batch_size=512)\n",
        "history_dict = history.history\n",
        "print(history_dict.keys())\n",
        "plt.plot(history.history['accuracy'])\n",
        "plt.plot(history.history['val_accuracy'])\n",
        "plt.title('Model accuracy')\n",
        "plt.ylabel('Accuracy')\n",
        "plt.xlabel('Epoch')\n",
        "plt.legend(['Train', 'Test'], loc='upper left')\n",
        "plt.show()\n",
        "\n",
        "\n",
        "# Plot training & validation loss values\n",
        "plt.plot(history.history['loss'])\n",
        "plt.plot(history.history['val_loss'])\n",
        "plt.title('Model loss')\n",
        "plt.ylabel('Loss')\n",
        "plt.xlabel('Epoch')\n",
        "plt.legend(['Train', 'Test'], loc='upper left')\n",
        "plt.show()\n"
      ],
      "metadata": {
        "colab": {
          "base_uri": "https://localhost:8080/",
          "height": 1000
        },
        "id": "Rc8VLnDYbJMx",
        "outputId": "937b6bd5-367c-4770-f88f-3e03d7cc13a6"
      },
      "execution_count": 9,
      "outputs": [
        {
          "output_type": "stream",
          "name": "stdout",
          "text": [
            "Epoch 1/5\n",
            "79/79 [==============================] - 1s 18ms/step - loss: 0.5970 - accuracy: 0.8531 - val_loss: 0.5870 - val_accuracy: 0.8547\n",
            "Epoch 2/5\n",
            "79/79 [==============================] - 1s 12ms/step - loss: 0.5948 - accuracy: 0.8537 - val_loss: 0.5851 - val_accuracy: 0.8553\n",
            "Epoch 3/5\n",
            "79/79 [==============================] - 1s 13ms/step - loss: 0.5927 - accuracy: 0.8540 - val_loss: 0.5831 - val_accuracy: 0.8557\n",
            "Epoch 4/5\n",
            "79/79 [==============================] - 1s 10ms/step - loss: 0.5906 - accuracy: 0.8545 - val_loss: 0.5811 - val_accuracy: 0.8561\n",
            "Epoch 5/5\n",
            "79/79 [==============================] - 1s 12ms/step - loss: 0.5885 - accuracy: 0.8552 - val_loss: 0.5792 - val_accuracy: 0.8563\n",
            "dict_keys(['loss', 'accuracy', 'val_loss', 'val_accuracy'])\n"
          ]
        },
        {
          "output_type": "display_data",
          "data": {
            "text/plain": [
              "<Figure size 640x480 with 1 Axes>"
            ],
            "image/png": "[encoded data removed]"
          },
          "metadata": {}
        },
        {
          "output_type": "display_data",
          "data": {
            "text/plain": [
              "<Figure size 640x480 with 1 Axes>"
            ],
            "image/png": "[encoded data removed]"
          },
          "metadata": {}
        }
      ]
    }
  ]
}